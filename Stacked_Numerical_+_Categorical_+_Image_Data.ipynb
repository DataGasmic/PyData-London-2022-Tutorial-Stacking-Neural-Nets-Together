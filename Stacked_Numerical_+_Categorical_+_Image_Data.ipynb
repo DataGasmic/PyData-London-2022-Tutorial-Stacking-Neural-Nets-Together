{
  "nbformat": 4,
  "nbformat_minor": 0,
  "metadata": {
    "colab": {
      "name": "Stacked Numerical + Categorical + Image Data",
      "provenance": [],
      "collapsed_sections": []
    },
    "kernelspec": {
      "name": "python3",
      "display_name": "Python 3"
    },
    "language_info": {
      "name": "python"
    }
  },
  "cells": [
    {
      "cell_type": "code",
      "execution_count": 6,
      "metadata": {
        "id": "j57X36bzMqto"
      },
      "outputs": [],
      "source": [
        "# Data Fetch\n",
        "import pandas as pd\n",
        "import numpy as np\n",
        "# Data Processing \n",
        "import cv2\n",
        "import io\n",
        "from glob import glob\n",
        "from sklearn.preprocessing import LabelBinarizer\n",
        "from sklearn.model_selection import train_test_split\n",
        "# Model\n",
        "import tensorflow as tf\n",
        "from tensorflow.keras.models import Sequential, Model\n",
        "from tensorflow.keras.layers import Flatten, Dense, BatchNormalization, Conv2D, MaxPooling2D, Activation,Dropout, Input, concatenate\n",
        "from tensorflow.keras import datasets, layers, models\n",
        "from tensorflow.keras.optimizers import Adam\n",
        "from tensorflow.keras.utils import plot_model\n",
        "\n"
      ]
    },
    {
      "cell_type": "code",
      "source": [
        "!git clone https://github.com/emanhamed/Houses-dataset\n"
      ],
      "metadata": {
        "colab": {
          "base_uri": "https://localhost:8080/"
        },
        "id": "IFkweRFwSzCD",
        "outputId": "44b3cd6e-ddd3-4619-890d-29346bc4a8df"
      },
      "execution_count": 5,
      "outputs": [
        {
          "output_type": "stream",
          "name": "stdout",
          "text": [
            "Cloning into 'Houses-dataset'...\n",
            "remote: Enumerating objects: 2166, done.\u001b[K\n",
            "remote: Counting objects: 100% (1/1), done.\u001b[K\n",
            "remote: Total 2166 (delta 0), reused 0 (delta 0), pack-reused 2165\u001b[K\n",
            "Receiving objects: 100% (2166/2166), 176.26 MiB | 38.63 MiB/s, done.\n",
            "Resolving deltas: 100% (20/20), done.\n",
            "Checking out files: 100% (2144/2144), done.\n"
          ]
        }
      ]
    },
    {
      "cell_type": "code",
      "source": [
        "root_path = \"/content/Houses-dataset/Houses Dataset/\""
      ],
      "metadata": {
        "id": "ZkUe8PFmUr3m"
      },
      "execution_count": 7,
      "outputs": []
    },
    {
      "cell_type": "code",
      "source": [
        "bathrooms = [root_path+str(i)+\"_bathroom.jpg\" for i in range(1,536)]\n",
        "bedrooms = [root_path+str(i)+\"_bedroom.jpg\" for i in range(1,536)]\n",
        "kitchens = [root_path+str(i)+\"_kitchen.jpg\" for i in range(1,536)]\n",
        "frontals = [root_path+str(i)+\"_frontal.jpg\" for i in range(1,536)]"
      ],
      "metadata": {
        "id": "wJ-GYLDtT-qw"
      },
      "execution_count": 8,
      "outputs": []
    },
    {
      "cell_type": "code",
      "source": [
        "txt_file = \"HousesInfo.txt\""
      ],
      "metadata": {
        "id": "2abI4kZ4TAMo"
      },
      "execution_count": 9,
      "outputs": []
    },
    {
      "cell_type": "code",
      "source": [
        "cols = [\"bedrooms\", \"bathrooms\", \"area\", \"zipcode\", \"price\"]\n",
        "df = pd.read_csv(root_path+txt_file, sep=\" \", header=None, names=cols)"
      ],
      "metadata": {
        "id": "IwAvwPnpTAPf"
      },
      "execution_count": 10,
      "outputs": []
    },
    {
      "cell_type": "code",
      "source": [
        "df.head()"
      ],
      "metadata": {
        "colab": {
          "base_uri": "https://localhost:8080/",
          "height": 206
        },
        "id": "yKPShhRoTASZ",
        "outputId": "e25b3bcb-831a-4d57-c573-15eebcc1f241"
      },
      "execution_count": 11,
      "outputs": [
        {
          "output_type": "execute_result",
          "data": {
            "text/plain": [
              "   bedrooms  bathrooms  area  zipcode   price\n",
              "0         4        4.0  4053    85255  869500\n",
              "1         4        3.0  3343    36372  865200\n",
              "2         3        4.0  3923    85266  889000\n",
              "3         5        5.0  4022    85262  910000\n",
              "4         3        4.0  4116    85266  971226"
            ],
            "text/html": [
              "\n",
              "  <div id=\"df-579de97e-e9a0-4f42-ae91-e561617c93d3\">\n",
              "    <div class=\"colab-df-container\">\n",
              "      <div>\n",
              "<style scoped>\n",
              "    .dataframe tbody tr th:only-of-type {\n",
              "        vertical-align: middle;\n",
              "    }\n",
              "\n",
              "    .dataframe tbody tr th {\n",
              "        vertical-align: top;\n",
              "    }\n",
              "\n",
              "    .dataframe thead th {\n",
              "        text-align: right;\n",
              "    }\n",
              "</style>\n",
              "<table border=\"1\" class=\"dataframe\">\n",
              "  <thead>\n",
              "    <tr style=\"text-align: right;\">\n",
              "      <th></th>\n",
              "      <th>bedrooms</th>\n",
              "      <th>bathrooms</th>\n",
              "      <th>area</th>\n",
              "      <th>zipcode</th>\n",
              "      <th>price</th>\n",
              "    </tr>\n",
              "  </thead>\n",
              "  <tbody>\n",
              "    <tr>\n",
              "      <th>0</th>\n",
              "      <td>4</td>\n",
              "      <td>4.0</td>\n",
              "      <td>4053</td>\n",
              "      <td>85255</td>\n",
              "      <td>869500</td>\n",
              "    </tr>\n",
              "    <tr>\n",
              "      <th>1</th>\n",
              "      <td>4</td>\n",
              "      <td>3.0</td>\n",
              "      <td>3343</td>\n",
              "      <td>36372</td>\n",
              "      <td>865200</td>\n",
              "    </tr>\n",
              "    <tr>\n",
              "      <th>2</th>\n",
              "      <td>3</td>\n",
              "      <td>4.0</td>\n",
              "      <td>3923</td>\n",
              "      <td>85266</td>\n",
              "      <td>889000</td>\n",
              "    </tr>\n",
              "    <tr>\n",
              "      <th>3</th>\n",
              "      <td>5</td>\n",
              "      <td>5.0</td>\n",
              "      <td>4022</td>\n",
              "      <td>85262</td>\n",
              "      <td>910000</td>\n",
              "    </tr>\n",
              "    <tr>\n",
              "      <th>4</th>\n",
              "      <td>3</td>\n",
              "      <td>4.0</td>\n",
              "      <td>4116</td>\n",
              "      <td>85266</td>\n",
              "      <td>971226</td>\n",
              "    </tr>\n",
              "  </tbody>\n",
              "</table>\n",
              "</div>\n",
              "      <button class=\"colab-df-convert\" onclick=\"convertToInteractive('df-579de97e-e9a0-4f42-ae91-e561617c93d3')\"\n",
              "              title=\"Convert this dataframe to an interactive table.\"\n",
              "              style=\"display:none;\">\n",
              "        \n",
              "  <svg xmlns=\"http://www.w3.org/2000/svg\" height=\"24px\"viewBox=\"0 0 24 24\"\n",
              "       width=\"24px\">\n",
              "    <path d=\"M0 0h24v24H0V0z\" fill=\"none\"/>\n",
              "    <path d=\"M18.56 5.44l.94 2.06.94-2.06 2.06-.94-2.06-.94-.94-2.06-.94 2.06-2.06.94zm-11 1L8.5 8.5l.94-2.06 2.06-.94-2.06-.94L8.5 2.5l-.94 2.06-2.06.94zm10 10l.94 2.06.94-2.06 2.06-.94-2.06-.94-.94-2.06-.94 2.06-2.06.94z\"/><path d=\"M17.41 7.96l-1.37-1.37c-.4-.4-.92-.59-1.43-.59-.52 0-1.04.2-1.43.59L10.3 9.45l-7.72 7.72c-.78.78-.78 2.05 0 2.83L4 21.41c.39.39.9.59 1.41.59.51 0 1.02-.2 1.41-.59l7.78-7.78 2.81-2.81c.8-.78.8-2.07 0-2.86zM5.41 20L4 18.59l7.72-7.72 1.47 1.35L5.41 20z\"/>\n",
              "  </svg>\n",
              "      </button>\n",
              "      \n",
              "  <style>\n",
              "    .colab-df-container {\n",
              "      display:flex;\n",
              "      flex-wrap:wrap;\n",
              "      gap: 12px;\n",
              "    }\n",
              "\n",
              "    .colab-df-convert {\n",
              "      background-color: #E8F0FE;\n",
              "      border: none;\n",
              "      border-radius: 50%;\n",
              "      cursor: pointer;\n",
              "      display: none;\n",
              "      fill: #1967D2;\n",
              "      height: 32px;\n",
              "      padding: 0 0 0 0;\n",
              "      width: 32px;\n",
              "    }\n",
              "\n",
              "    .colab-df-convert:hover {\n",
              "      background-color: #E2EBFA;\n",
              "      box-shadow: 0px 1px 2px rgba(60, 64, 67, 0.3), 0px 1px 3px 1px rgba(60, 64, 67, 0.15);\n",
              "      fill: #174EA6;\n",
              "    }\n",
              "\n",
              "    [theme=dark] .colab-df-convert {\n",
              "      background-color: #3B4455;\n",
              "      fill: #D2E3FC;\n",
              "    }\n",
              "\n",
              "    [theme=dark] .colab-df-convert:hover {\n",
              "      background-color: #434B5C;\n",
              "      box-shadow: 0px 1px 3px 1px rgba(0, 0, 0, 0.15);\n",
              "      filter: drop-shadow(0px 1px 2px rgba(0, 0, 0, 0.3));\n",
              "      fill: #FFFFFF;\n",
              "    }\n",
              "  </style>\n",
              "\n",
              "      <script>\n",
              "        const buttonEl =\n",
              "          document.querySelector('#df-579de97e-e9a0-4f42-ae91-e561617c93d3 button.colab-df-convert');\n",
              "        buttonEl.style.display =\n",
              "          google.colab.kernel.accessAllowed ? 'block' : 'none';\n",
              "\n",
              "        async function convertToInteractive(key) {\n",
              "          const element = document.querySelector('#df-579de97e-e9a0-4f42-ae91-e561617c93d3');\n",
              "          const dataTable =\n",
              "            await google.colab.kernel.invokeFunction('convertToInteractive',\n",
              "                                                     [key], {});\n",
              "          if (!dataTable) return;\n",
              "\n",
              "          const docLinkHtml = 'Like what you see? Visit the ' +\n",
              "            '<a target=\"_blank\" href=https://colab.research.google.com/notebooks/data_table.ipynb>data table notebook</a>'\n",
              "            + ' to learn more about interactive tables.';\n",
              "          element.innerHTML = '';\n",
              "          dataTable['output_type'] = 'display_data';\n",
              "          await google.colab.output.renderOutput(dataTable, element);\n",
              "          const docLink = document.createElement('div');\n",
              "          docLink.innerHTML = docLinkHtml;\n",
              "          element.appendChild(docLink);\n",
              "        }\n",
              "      </script>\n",
              "    </div>\n",
              "  </div>\n",
              "  "
            ]
          },
          "metadata": {},
          "execution_count": 11
        }
      ]
    },
    {
      "cell_type": "code",
      "source": [
        "# Quick Data Check\n",
        "df.isnull().sum()"
      ],
      "metadata": {
        "colab": {
          "base_uri": "https://localhost:8080/"
        },
        "id": "u0kFRiCZV2_i",
        "outputId": "673b1cfa-c587-4480-de10-38ac721884f7"
      },
      "execution_count": 12,
      "outputs": [
        {
          "output_type": "execute_result",
          "data": {
            "text/plain": [
              "bedrooms     0\n",
              "bathrooms    0\n",
              "area         0\n",
              "zipcode      0\n",
              "price        0\n",
              "dtype: int64"
            ]
          },
          "metadata": {},
          "execution_count": 12
        }
      ]
    },
    {
      "cell_type": "code",
      "source": [
        "numerical_columns = df.columns[:3]\n",
        "categorical_columns = ['zipcode']"
      ],
      "metadata": {
        "id": "H2442nrpTAVY"
      },
      "execution_count": 13,
      "outputs": []
    },
    {
      "cell_type": "code",
      "source": [
        "# 1 Numerical DNN\n",
        "# 2 Categorical Data DNN - for Zipcode\n",
        "# 4 CNN's for 4 views of the house"
      ],
      "metadata": {
        "id": "-YaxRa6STAYW"
      },
      "execution_count": 14,
      "outputs": []
    },
    {
      "cell_type": "code",
      "source": [
        "# Numerical DNN"
      ],
      "metadata": {
        "id": "xwNpWODcbyVs"
      },
      "execution_count": 15,
      "outputs": []
    },
    {
      "cell_type": "code",
      "source": [
        "num_dnn = Sequential()\n",
        "num_dnn.add(Dense(input_dim = df[numerical_columns].shape[1], units = 8  ))\n",
        "num_dnn.add(Dense(units = 8 ))\n",
        "num_dnn.add(Dense( units = 2 ))\n"
      ],
      "metadata": {
        "id": "B19q7a-dTAbO"
      },
      "execution_count": 16,
      "outputs": []
    },
    {
      "cell_type": "code",
      "source": [
        "# Processing Categorical Data\n",
        "binarize_object = LabelBinarizer()\n",
        "categorical_data = binarize_object.fit_transform(df[categorical_columns])"
      ],
      "metadata": {
        "id": "UEAePqn6TAeG"
      },
      "execution_count": 17,
      "outputs": []
    },
    {
      "cell_type": "code",
      "source": [
        "# Categorical DNN\n",
        "cat_dnn = Sequential()\n",
        "cat_dnn.add(Dense(input_dim = categorical_data.shape[1], units = 8  ))\n",
        "cat_dnn.add(Dense(units = 8 ))\n",
        "cat_dnn.add(Dense( units = 2 ))"
      ],
      "metadata": {
        "id": "uVU28vUteDAS"
      },
      "execution_count": 18,
      "outputs": []
    },
    {
      "cell_type": "code",
      "source": [
        "# 4 CNN's for each section of the house\n"
      ],
      "metadata": {
        "id": "5BqeJhfiWtNk"
      },
      "execution_count": 19,
      "outputs": []
    },
    {
      "cell_type": "code",
      "source": [
        "bathrooms_data = []\n",
        "for bathroom in bathrooms:\n",
        "  image = cv2.imread(bathroom)\n",
        "  image = cv2.resize(image, (32, 32))\n",
        "  bathrooms_data.append(image)"
      ],
      "metadata": {
        "id": "dyZzCnHKWnVk"
      },
      "execution_count": 20,
      "outputs": []
    },
    {
      "cell_type": "code",
      "source": [
        "bedrooms_data = []\n",
        "for bedroom in bedrooms:\n",
        "  image = cv2.imread(bedroom)\n",
        "  image = cv2.resize(image, (32, 32))\n",
        "  bedrooms_data.append(image)"
      ],
      "metadata": {
        "id": "uhuioAI9bhKV"
      },
      "execution_count": 21,
      "outputs": []
    },
    {
      "cell_type": "code",
      "source": [
        "kitchens_data = []\n",
        "for kitchen in kitchens:\n",
        "  image = cv2.imread(kitchen)\n",
        "  image = cv2.resize(image, (32, 32))\n",
        "  kitchens_data.append(image)"
      ],
      "metadata": {
        "id": "i_3IBYXQbhUw"
      },
      "execution_count": 22,
      "outputs": []
    },
    {
      "cell_type": "code",
      "source": [
        "frontals_data = []\n",
        "for frontal in frontals:\n",
        "  image = cv2.imread(frontal)\n",
        "  image = cv2.resize(image, (32, 32))\n",
        "  frontals_data.append(image)"
      ],
      "metadata": {
        "id": "LLyhoeeTbhgn"
      },
      "execution_count": 23,
      "outputs": []
    },
    {
      "cell_type": "code",
      "source": [
        "bathrooms_data = np.array(bathrooms_data)\n",
        "bedrooms_data = np.array(bedrooms_data)\n",
        "kitchens_data = np.array(kitchens_data)\n",
        "frontals_data = np.array(frontals_data)"
      ],
      "metadata": {
        "id": "F_V7wEfVZuwU"
      },
      "execution_count": 24,
      "outputs": []
    },
    {
      "cell_type": "code",
      "source": [
        "y = df['price']"
      ],
      "metadata": {
        "id": "oBXyHgYGaI7a"
      },
      "execution_count": 26,
      "outputs": []
    },
    {
      "cell_type": "code",
      "source": [
        "bath_train_images , bath_test_images, y_train, y_test = train_test_split(bathrooms_data,y, train_size = 0.8, random_state = 42 )\n",
        "bed_train_images , bed_test_images, y_train, y_test = train_test_split(bedrooms_data,y, train_size = 0.8, random_state = 42 )\n",
        "kit_train_images , kit_test_images, y_train, y_test = train_test_split(kitchens_data,y, train_size = 0.8, random_state = 42 )\n",
        "front_train_images , front_test_images, y_train, y_test = train_test_split(frontals_data,y, train_size = 0.8, random_state = 42 )\n",
        "X_num_train, X_num_test , y_train, y_test = train_test_split(df[numerical_columns],y, train_size = 0.8, random_state = 42 )\n",
        "X_cat_train, X_cat_test , y_train, y_test = train_test_split(categorical_data,y, train_size = 0.8, random_state = 42 )"
      ],
      "metadata": {
        "id": "s6IWllkFZ99v"
      },
      "execution_count": 27,
      "outputs": []
    },
    {
      "cell_type": "code",
      "source": [
        "bath_train_images, bath_test_images = bath_train_images / 255.0, bath_test_images / 255.0\n",
        "bed_train_images, bed_test_images = bed_train_images / 255.0, bed_test_images / 255.0\n",
        "kit_train_images, kit_test_images = kit_train_images / 255.0, kit_test_images / 255.0\n",
        "front_train_images, front_test_images = front_train_images / 255.0, front_test_images / 255.0"
      ],
      "metadata": {
        "id": "an1PG8iYZ59c"
      },
      "execution_count": 28,
      "outputs": []
    },
    {
      "cell_type": "code",
      "source": [
        "# CNN Function\n",
        "def create_cnn():\n",
        "  model = Sequential()\n",
        "  model.add(layers.Conv2D(32, (3, 3), activation='relu', input_shape=(32, 32, 3)))\n",
        "  model.add(layers.MaxPooling2D((2, 2)))\n",
        "  model.add(layers.Conv2D(32, (3, 3), activation='relu'))\n",
        "  model.add(layers.MaxPooling2D((2, 2)))\n",
        "  model.add(layers.Conv2D(16, (3, 3), activation='relu'))\n",
        "  model.add(layers.Flatten())\n",
        "  model.add(layers.Dense(4, activation='relu'))\n",
        "\n",
        "  return model"
      ],
      "metadata": {
        "id": "3V5YlxwXTAj1"
      },
      "execution_count": 29,
      "outputs": []
    },
    {
      "cell_type": "code",
      "source": [
        "bathroom_model = create_cnn()\n",
        "bedroom_model = create_cnn()\n",
        "kitchen_model = create_cnn()\n",
        "frontal_model = create_cnn()"
      ],
      "metadata": {
        "id": "etkhuNAlY813"
      },
      "execution_count": 30,
      "outputs": []
    },
    {
      "cell_type": "code",
      "source": [
        "# Combining all the models Together - STACK !\n",
        "combinedInput = concatenate([num_dnn.output, cat_dnn.output,\n",
        "                             bathroom_model.output,bedroom_model.output,\n",
        "                             kitchen_model.output, frontal_model.output])"
      ],
      "metadata": {
        "id": "8YmUGRmRY87i"
      },
      "execution_count": 31,
      "outputs": []
    },
    {
      "cell_type": "code",
      "source": [
        "x = Dense(6, activation=\"linear\")(combinedInput) # Add a dense layer post stacking\n",
        "final_layer = Dense(1, activation=\"linear\")(x)\n",
        "model = Model(inputs=[num_dnn.input, cat_dnn.input,\n",
        "                      bathroom_model.input,bedroom_model.input,\n",
        "                      kitchen_model.input, frontal_model.input],\n",
        "              outputs=final_layer)"
      ],
      "metadata": {
        "id": "wP5Glls1Y8_i"
      },
      "execution_count": 32,
      "outputs": []
    },
    {
      "cell_type": "code",
      "source": [
        "opt = Adam(learning_rate=1e-2, decay=1e-3 / 200)\n",
        "model.compile(loss='mean_absolute_error', optimizer=opt, metrics=['mean_absolute_error'])"
      ],
      "metadata": {
        "id": "YxztsVw6Y9C_"
      },
      "execution_count": 33,
      "outputs": []
    },
    {
      "cell_type": "code",
      "source": [
        "plot_model(model, show_layer_names = False, show_shapes = True)"
      ],
      "metadata": {
        "colab": {
          "base_uri": "https://localhost:8080/",
          "height": 542
        },
        "id": "92qp2KV7fM3O",
        "outputId": "7664f4ea-bbf7-46b6-d4a9-7e7ff0cc44d1"
      },
      "execution_count": 34,
      "outputs": [
        {
          "output_type": "execute_result",
          "data": {
            "text/plain": [
              "<IPython.core.display.Image object>"
            ],
            "image/png": "[encoded data removed]"
          },
          "metadata": {},
          "execution_count": 34
        }
      ]
    },
    {
      "cell_type": "code",
      "source": [
        "model.fit(\n",
        "    x=[X_num_train, X_cat_train,\n",
        "       bath_train_images,bed_train_images,\n",
        "       kit_train_images, front_train_images ],\n",
        "    y=y_train, validation_split = 0.2,\n",
        "    epochs=10, batch_size=8)"
      ],
      "metadata": {
        "colab": {
          "base_uri": "https://localhost:8080/"
        },
        "id": "Z9hFxqX8Y9F2",
        "outputId": "297ca46b-cb8c-4bb1-b6d5-4b7deab42247"
      },
      "execution_count": 35,
      "outputs": [
        {
          "output_type": "stream",
          "name": "stdout",
          "text": [
            "Epoch 1/10\n",
            "43/43 [==============================] - 8s 95ms/step - loss: 463106.8438 - mean_absolute_error: 463106.8438 - val_loss: 238532.5781 - val_mean_absolute_error: 238532.5781\n",
            "Epoch 2/10\n",
            "43/43 [==============================] - 2s 46ms/step - loss: 332303.9375 - mean_absolute_error: 332303.9375 - val_loss: 213293.2344 - val_mean_absolute_error: 213293.2344\n",
            "Epoch 3/10\n",
            "43/43 [==============================] - 2s 46ms/step - loss: 308644.7812 - mean_absolute_error: 308644.7812 - val_loss: 187206.4688 - val_mean_absolute_error: 187206.4844\n",
            "Epoch 4/10\n",
            "43/43 [==============================] - 2s 46ms/step - loss: 295055.9688 - mean_absolute_error: 295055.9688 - val_loss: 185619.1250 - val_mean_absolute_error: 185619.1250\n",
            "Epoch 5/10\n",
            "43/43 [==============================] - 2s 48ms/step - loss: 286972.6250 - mean_absolute_error: 286972.6250 - val_loss: 178389.3438 - val_mean_absolute_error: 178389.3438\n",
            "Epoch 6/10\n",
            "43/43 [==============================] - 2s 48ms/step - loss: 261806.4062 - mean_absolute_error: 261806.4062 - val_loss: 140800.0000 - val_mean_absolute_error: 140800.0000\n",
            "Epoch 7/10\n",
            "43/43 [==============================] - 2s 47ms/step - loss: 220958.2969 - mean_absolute_error: 220958.2969 - val_loss: 130824.9922 - val_mean_absolute_error: 130824.9922\n",
            "Epoch 8/10\n",
            "43/43 [==============================] - 2s 47ms/step - loss: 198596.1875 - mean_absolute_error: 198596.1875 - val_loss: 125387.0234 - val_mean_absolute_error: 125387.0234\n",
            "Epoch 9/10\n",
            "43/43 [==============================] - 2s 45ms/step - loss: 191543.1406 - mean_absolute_error: 191543.1406 - val_loss: 122646.0547 - val_mean_absolute_error: 122646.0547\n",
            "Epoch 10/10\n",
            "43/43 [==============================] - 2s 46ms/step - loss: 192823.5469 - mean_absolute_error: 192823.5469 - val_loss: 120784.1406 - val_mean_absolute_error: 120784.1406\n"
          ]
        },
        {
          "output_type": "execute_result",
          "data": {
            "text/plain": [
              "<keras.callbacks.History at 0x7f862a5d08d0>"
            ]
          },
          "metadata": {},
          "execution_count": 35
        }
      ]
    },
    {
      "cell_type": "code",
      "source": [
        "model.predict([X_num_test, X_cat_test,\n",
        "       bath_test_images,bed_test_images,\n",
        "       kit_test_images, front_test_images])"
      ],
      "metadata": {
        "colab": {
          "base_uri": "https://localhost:8080/"
        },
        "id": "ov1xXpj6Y9Iu",
        "outputId": "245279be-a87e-4e1b-fb91-9dfeaf8774b8"
      },
      "execution_count": 36,
      "outputs": [
        {
          "output_type": "execute_result",
          "data": {
            "text/plain": [
              "array([[ 562051.56 ],\n",
              "       [ 862962.   ],\n",
              "       [ 149938.95 ],\n",
              "       [ 591820.   ],\n",
              "       [ 807130.6  ],\n",
              "       [  36151.785],\n",
              "       [ 793113.9  ],\n",
              "       [ 758773.44 ],\n",
              "       [ 700557.6  ],\n",
              "       [ 673315.94 ],\n",
              "       [ 633261.1  ],\n",
              "       [ 376973.03 ],\n",
              "       [ 416595.3  ],\n",
              "       [ 520631.1  ],\n",
              "       [ 647518.94 ],\n",
              "       [ 562777.06 ],\n",
              "       [ 372076.   ],\n",
              "       [  29263.729],\n",
              "       [ 779405.9  ],\n",
              "       [ 429437.75 ],\n",
              "       [1190200.1  ],\n",
              "       [  54920.535],\n",
              "       [1265872.1  ],\n",
              "       [ 716457.7  ],\n",
              "       [1002037.75 ],\n",
              "       [  38881.645],\n",
              "       [ 658422.44 ],\n",
              "       [1149149.8  ],\n",
              "       [ 104011.5  ],\n",
              "       [ 583650.3  ],\n",
              "       [ 175974.52 ],\n",
              "       [ 349362.5  ],\n",
              "       [ 394969.88 ],\n",
              "       [  59057.234],\n",
              "       [ 280014.34 ],\n",
              "       [ 885652.06 ],\n",
              "       [ 497693.72 ],\n",
              "       [1238721.1  ],\n",
              "       [ 784852.44 ],\n",
              "       [ 663215.7  ],\n",
              "       [ 834553.4  ],\n",
              "       [ 577310.3  ],\n",
              "       [ 634886.1  ],\n",
              "       [ 363646.7  ],\n",
              "       [ 440021.1  ],\n",
              "       [ 101820.03 ],\n",
              "       [1015869.94 ],\n",
              "       [ 220900.77 ],\n",
              "       [ 956758.75 ],\n",
              "       [ 477087.2  ],\n",
              "       [ 816814.44 ],\n",
              "       [ 710497.1  ],\n",
              "       [ 530189.9  ],\n",
              "       [ 530822.2  ],\n",
              "       [1728393.4  ],\n",
              "       [ 564865.75 ],\n",
              "       [ 661272.2  ],\n",
              "       [ 557683.9  ],\n",
              "       [ 247449.02 ],\n",
              "       [  50498.39 ],\n",
              "       [ 521945.2  ],\n",
              "       [1283139.9  ],\n",
              "       [1069438.4  ],\n",
              "       [ 465537.   ],\n",
              "       [ 261750.25 ],\n",
              "       [ 655397.56 ],\n",
              "       [ 787457.1  ],\n",
              "       [ 712348.9  ],\n",
              "       [ 469382.8  ],\n",
              "       [ 821613.   ],\n",
              "       [ 651101.4  ],\n",
              "       [ 690436.2  ],\n",
              "       [ 142788.05 ],\n",
              "       [ 923478.4  ],\n",
              "       [ 334747.4  ],\n",
              "       [  64138.297],\n",
              "       [ 555852.1  ],\n",
              "       [ 588366.1  ],\n",
              "       [ 795186.6  ],\n",
              "       [ 857206.75 ],\n",
              "       [ 465747.16 ],\n",
              "       [ 354383.1  ],\n",
              "       [1146970.2  ],\n",
              "       [1013594.2  ],\n",
              "       [ 703184.6  ],\n",
              "       [ 862828.2  ],\n",
              "       [ 478415.1  ],\n",
              "       [ 307386.1  ],\n",
              "       [ 702634.5  ],\n",
              "       [ 693857.9  ],\n",
              "       [ 489027.3  ],\n",
              "       [ 524251.16 ],\n",
              "       [1181727.9  ],\n",
              "       [ 668224.94 ],\n",
              "       [ 756541.5  ],\n",
              "       [1086749.5  ],\n",
              "       [ 422252.75 ],\n",
              "       [ 549213.06 ],\n",
              "       [ 503507.4  ],\n",
              "       [ 389482.94 ],\n",
              "       [ 606322.44 ],\n",
              "       [ 549485.3  ],\n",
              "       [ 771581.2  ],\n",
              "       [  -9895.175],\n",
              "       [  80516.23 ],\n",
              "       [ 735054.94 ],\n",
              "       [  84793.94 ]], dtype=float32)"
            ]
          },
          "metadata": {},
          "execution_count": 36
        }
      ]
    },
    {
      "cell_type": "code",
      "source": [
        ""
      ],
      "metadata": {
        "id": "3Na_eKCAiPHZ"
      },
      "execution_count": null,
      "outputs": []
    },
    {
      "cell_type": "code",
      "source": [
        ""
      ],
      "metadata": {
        "id": "dfhLZ00SjRss"
      },
      "execution_count": null,
      "outputs": []
    },
    {
      "cell_type": "code",
      "source": [
        ""
      ],
      "metadata": {
        "id": "HIH20OcqjRyD"
      },
      "execution_count": null,
      "outputs": []
    },
    {
      "cell_type": "code",
      "source": [
        ""
      ],
      "metadata": {
        "id": "5mGIb1pWjR2M"
      },
      "execution_count": null,
      "outputs": []
    },
    {
      "cell_type": "code",
      "source": [
        ""
      ],
      "metadata": {
        "id": "H33F24rMjR5t"
      },
      "execution_count": null,
      "outputs": []
    },
    {
      "cell_type": "code",
      "source": [
        ""
      ],
      "metadata": {
        "id": "p2Lp9SyAjR8-"
      },
      "execution_count": null,
      "outputs": []
    },
    {
      "cell_type": "code",
      "source": [
        ""
      ],
      "metadata": {
        "id": "p9R7lHnZjSAR"
      },
      "execution_count": null,
      "outputs": []
    },
    {
      "cell_type": "code",
      "source": [
        ""
      ],
      "metadata": {
        "id": "Xo88bP1UjSDm"
      },
      "execution_count": null,
      "outputs": []
    },
    {
      "cell_type": "code",
      "source": [
        "from alibi.explainers import IntegratedGradients"
      ],
      "metadata": {
        "id": "SRsiaTcwY9Ld"
      },
      "execution_count": null,
      "outputs": []
    },
    {
      "cell_type": "code",
      "source": [
        "# !pip install alibi"
      ],
      "metadata": {
        "id": "6345Ec-AY9OU"
      },
      "execution_count": null,
      "outputs": []
    },
    {
      "cell_type": "code",
      "source": [
        "n_steps = 50\n",
        "method = \"gausslegendre\"\n",
        "ig  = IntegratedGradients(num_dnn,\n",
        "                          n_steps=n_steps,\n",
        "                          method=method)"
      ],
      "metadata": {
        "id": "nPTax5ZEemZ2"
      },
      "execution_count": null,
      "outputs": []
    },
    {
      "cell_type": "code",
      "source": [
        "predictions = num_dnn.numpy().argmax(axis=1)\n",
        "explanation = ig.explain(X_test_sample,\n",
        "                         baselines=None,\n",
        "                         target=predictions)"
      ],
      "metadata": {
        "id": "q7HTdaNHemeG"
      },
      "execution_count": null,
      "outputs": []
    },
    {
      "cell_type": "code",
      "source": [
        "num_dnn.predict(X_num_test)"
      ],
      "metadata": {
        "colab": {
          "base_uri": "https://localhost:8080/"
        },
        "id": "2xV6CpfRemhZ",
        "outputId": "1c0484ef-9604-4cc7-936b-bf1a14da34a5"
      },
      "execution_count": null,
      "outputs": [
        {
          "output_type": "execute_result",
          "data": {
            "text/plain": [
              "array([[  62938.492,  -42444.934],\n",
              "       [  73811.57 ,  -49779.164],\n",
              "       [  37227.49 ,  -25106.58 ],\n",
              "       [ 110897.23 ,  -74788.63 ],\n",
              "       [  89647.734,  -60461.15 ],\n",
              "       [  32966.36 ,  -22229.785],\n",
              "       [  83621.1  ,  -56391.484],\n",
              "       [ 101807.484,  -68659.79 ],\n",
              "       [  41226.56 ,  -27802.57 ],\n",
              "       [  93059.07 ,  -62760.703],\n",
              "       [  63705.03 ,  -42960.484],\n",
              "       [  67915.664,  -45802.734],\n",
              "       [  46205.188,  -31159.307],\n",
              "       [  98461.445,  -66404.29 ],\n",
              "       [ 120614.24 ,  -81346.555],\n",
              "       [  70202.76 ,  -47343.402],\n",
              "       [  66057.53 ,  -44550.33 ],\n",
              "       [  31660.285,  -21348.797],\n",
              "       [  55200.   ,  -37225.08 ],\n",
              "       [  51625.4  ,  -34815.406],\n",
              "       [ 158421.98 , -106843.03 ],\n",
              "       [  36884.586,  -24872.752],\n",
              "       [ 139208.7  ,  -93887.586],\n",
              "       [  92144.82 ,  -62144.008],\n",
              "       [ 128648.055,  -86763.57 ],\n",
              "       [  32869.973,  -22167.781],\n",
              "       [  88141.88 ,  -59440.402],\n",
              "       [ 114717.49 ,  -77365.516],\n",
              "       [  44198.61 ,  -29806.29 ],\n",
              "       [  25181.965,  -16982.465],\n",
              "       [  34711.727,  -23406.605],\n",
              "       [  35839.727,  -24167.963],\n",
              "       [  44131.008,  -29758.701],\n",
              "       [  37929.445,  -25577.543],\n",
              "       [  57045.61 ,  -38471.508],\n",
              "       [ 155809.83 , -105081.06 ],\n",
              "       [  56980.312,  -38427.46 ],\n",
              "       [ 160234.95 , -108067.44 ],\n",
              "       [ 108731.25 ,  -73333.09 ],\n",
              "       [  40687.023,  -27437.127],\n",
              "       [  96381.96 ,  -64997.14 ],\n",
              "       [  26292.129,  -17731.305],\n",
              "       [  82836.01 ,  -55863.953],\n",
              "       [  39544.203,  -26666.264],\n",
              "       [  52604.96 ,  -35476.15 ],\n",
              "       [  44198.61 ,  -29806.29 ],\n",
              "       [ 116612.76 ,  -78641.88 ],\n",
              "       [  63659.13 ,  -42933.016],\n",
              "       [  82122.26 ,  -55386.49 ],\n",
              "       [  70694.1  ,  -47677.844],\n",
              "       [  61321.44 ,  -41352.676],\n",
              "       [  91883.61 ,  -61967.81 ],\n",
              "       [  64603.01 ,  -43568.727],\n",
              "       [  63445.38 ,  -42788.35 ],\n",
              "       [ 256432.81 , -172963.92 ],\n",
              "       [ 105973.67 ,  -71473.51 ],\n",
              "       [  36461.68 ,  -24590.5  ],\n",
              "       [  74168.445,  -50017.9  ],\n",
              "       [  66793.71 ,  -45047.39 ],\n",
              "       [  34746.67 ,  -23432.168],\n",
              "       [  99619.08 ,  -67184.664],\n",
              "       [ 165446.02 , -111585.945],\n",
              "       [ 132581.1  ,  -89416.05 ],\n",
              "       [  82331.414,  -55524.074],\n",
              "       [  48570.938,  -32754.592],\n",
              "       [  85955.77 ,  -57968.82 ],\n",
              "       [  59803.914,  -40330.562],\n",
              "       [ 126661.93 ,  -85415.414],\n",
              "       [  71330.03 ,  -48105.29 ],\n",
              "       [ 110950.01 ,  -74826.7  ],\n",
              "       [  62838.246,  -42375.324],\n",
              "       [ 125933.36 ,  -84928.445],\n",
              "       [  41306.68 ,  -27856.13 ],\n",
              "       [ 109219.46 ,  -73659.4  ],\n",
              "       [  39576.85 ,  -26688.287],\n",
              "       [  37929.445,  -25577.543],\n",
              "       [  65420.04 ,  -44118.812],\n",
              "       [  74203.4  ,  -50043.46 ],\n",
              "       [ 105741.25 ,  -71311.734],\n",
              "       [  94315.38 ,  -63606.617],\n",
              "       [  38877.914,  -26220.33 ],\n",
              "       [  39170.22 ,  -26414.482],\n",
              "       [ 132940.28 ,  -89658.31 ],\n",
              "       [ 112532.836,  -75892.87 ],\n",
              "       [  91082.125,  -61426.703],\n",
              "       [  88128.63 ,  -59434.965],\n",
              "       [  57194.062,  -38572.125],\n",
              "       [  54725.03 ,  -36904.215],\n",
              "       [  43186.4  ,  -29123.521],\n",
              "       [  42776.742,  -28846.709],\n",
              "       [  59853.67 ,  -40365.633],\n",
              "       [ 100957.805,  -68087.67 ],\n",
              "       [ 137461.05 ,  -92707.234],\n",
              "       [ 121590.664,  -81999.15 ],\n",
              "       [  97953.836,  -66061.4  ],\n",
              "       [ 122099.84 ,  -82346.12 ],\n",
              "       [  45650.1  ,  -30784.885],\n",
              "       [  70529.27 ,  -47563.65 ],\n",
              "       [  86937.63 ,  -58633.1  ],\n",
              "       [  77745.336,  -52431.11 ],\n",
              "       [  82266.11 ,  -55480.027],\n",
              "       [  49307.844,  -33251.117],\n",
              "       [ 103961.78 ,  -70113.945],\n",
              "       [  25686.559,  -17322.344],\n",
              "       [  41064.023,  -27691.916],\n",
              "       [ 124499.805,  -83967.49 ],\n",
              "       [  42141.54 ,  -28418.73 ]], dtype=float32)"
            ]
          },
          "metadata": {},
          "execution_count": 121
        }
      ]
    },
    {
      "cell_type": "code",
      "source": [
        ""
      ],
      "metadata": {
        "id": "i8p7ZhHVemkV"
      },
      "execution_count": null,
      "outputs": []
    },
    {
      "cell_type": "code",
      "source": [
        ""
      ],
      "metadata": {
        "id": "qp_o1K9NY9RF"
      },
      "execution_count": null,
      "outputs": []
    },
    {
      "cell_type": "code",
      "source": [
        ""
      ],
      "metadata": {
        "id": "zeIHNqltY9Tr"
      },
      "execution_count": null,
      "outputs": []
    },
    {
      "cell_type": "code",
      "source": [
        "from sklearn.model_selection import train_test_split"
      ],
      "metadata": {
        "id": "lg4TFWGuVJZj"
      },
      "execution_count": null,
      "outputs": []
    },
    {
      "cell_type": "code",
      "source": [
        "X_train, X_test, y_train , y_test = train_test_split(X, y , train_size = 0.7, random_state = 42)"
      ],
      "metadata": {
        "id": "5tvJGUu9YDK_"
      },
      "execution_count": null,
      "outputs": []
    },
    {
      "cell_type": "code",
      "source": [
        "# Let's build 2 neural networks"
      ],
      "metadata": {
        "id": "5nhCr5-PYJNy"
      },
      "execution_count": null,
      "outputs": []
    },
    {
      "cell_type": "code",
      "source": [
        "# Network 1\n",
        "network_1 = Sequential()\n",
        "network_1.add(Dense(units = 4, input_dim=X_train.shape[1] , activation='relu'))\n",
        "network_1.add(Dense(units = 4, activation='relu'))\n",
        "network_1.add(Dense(units = 4, activation='relu'))\n",
        "network_1.add(Dense(units = 4, activation='relu'))\n",
        "#network_1.compile(loss='mean_squared_error', optimizer='adam', metrics=['mean_squared_error'])"
      ],
      "metadata": {
        "id": "F3Qr7UvOkNFA"
      },
      "execution_count": null,
      "outputs": []
    },
    {
      "cell_type": "code",
      "source": [
        "network_1.summary()"
      ],
      "metadata": {
        "colab": {
          "base_uri": "https://localhost:8080/"
        },
        "id": "3uWfkBNsaH6f",
        "outputId": "6484bd5b-6253-4b59-f88d-a678efca7e5d"
      },
      "execution_count": null,
      "outputs": [
        {
          "output_type": "stream",
          "name": "stdout",
          "text": [
            "Model: \"sequential\"\n",
            "_________________________________________________________________\n",
            " Layer (type)                Output Shape              Param #   \n",
            "=================================================================\n",
            " dense (Dense)               (None, 4)                 36        \n",
            "                                                                 \n",
            " dense_1 (Dense)             (None, 4)                 20        \n",
            "                                                                 \n",
            " dense_2 (Dense)             (None, 4)                 20        \n",
            "                                                                 \n",
            " dense_3 (Dense)             (None, 4)                 20        \n",
            "                                                                 \n",
            "=================================================================\n",
            "Total params: 96\n",
            "Trainable params: 96\n",
            "Non-trainable params: 0\n",
            "_________________________________________________________________\n"
          ]
        }
      ]
    },
    {
      "cell_type": "code",
      "source": [
        "# Network 2\n",
        "network_2 = Sequential()\n",
        "network_2.add(Dense(units = 16, input_dim=X_train.shape[1] , activation='relu'))\n",
        "network_2.add(Dense(units = 16, activation='relu'))\n",
        "network_2.compile(loss='mean_squared_error', optimizer='adam', metrics=['mean_squared_error'])"
      ],
      "metadata": {
        "id": "eC0x1gsLu9Wo"
      },
      "execution_count": null,
      "outputs": []
    },
    {
      "cell_type": "code",
      "source": [
        "from tensorflow.keras.layers import Input\n",
        "from tensorflow.keras.models import Model\n",
        "from tensorflow.keras.layers import concatenate"
      ],
      "metadata": {
        "id": "L8_3E10ku9eR"
      },
      "execution_count": null,
      "outputs": []
    },
    {
      "cell_type": "code",
      "source": [
        "combinedInput = concatenate([network_1.output, network_2.output])"
      ],
      "metadata": {
        "id": "WdFo10xqu9m7"
      },
      "execution_count": null,
      "outputs": []
    },
    {
      "cell_type": "code",
      "source": [
        "x = Dense(1, activation=\"linear\")(combinedInput)\n",
        "model = Model(inputs=[network_1.input, network_2.input], outputs=x)"
      ],
      "metadata": {
        "id": "PNQZDZNJu9s8"
      },
      "execution_count": null,
      "outputs": []
    },
    {
      "cell_type": "code",
      "source": [
        "model.summary()"
      ],
      "metadata": {
        "colab": {
          "base_uri": "https://localhost:8080/"
        },
        "id": "-qyu-HD1u9wo",
        "outputId": "a0a97032-e785-4158-9073-7e41eb8e6c35"
      },
      "execution_count": null,
      "outputs": [
        {
          "output_type": "stream",
          "name": "stdout",
          "text": [
            "Model: \"model_1\"\n",
            "__________________________________________________________________________________________________\n",
            " Layer (type)                   Output Shape         Param #     Connected to                     \n",
            "==================================================================================================\n",
            " dense_input (InputLayer)       [(None, 8)]          0           []                               \n",
            "                                                                                                  \n",
            " dense (Dense)                  (None, 4)            36          ['dense_input[0][0]']            \n",
            "                                                                                                  \n",
            " dense_1 (Dense)                (None, 4)            20          ['dense[0][0]']                  \n",
            "                                                                                                  \n",
            " dense_4_input (InputLayer)     [(None, 8)]          0           []                               \n",
            "                                                                                                  \n",
            " dense_2 (Dense)                (None, 4)            20          ['dense_1[0][0]']                \n",
            "                                                                                                  \n",
            " dense_4 (Dense)                (None, 16)           144         ['dense_4_input[0][0]']          \n",
            "                                                                                                  \n",
            " dense_3 (Dense)                (None, 4)            20          ['dense_2[0][0]']                \n",
            "                                                                                                  \n",
            " dense_5 (Dense)                (None, 16)           272         ['dense_4[0][0]']                \n",
            "                                                                                                  \n",
            " concatenate_1 (Concatenate)    (None, 20)           0           ['dense_3[0][0]',                \n",
            "                                                                  'dense_5[0][0]']                \n",
            "                                                                                                  \n",
            " dense_7 (Dense)                (None, 1)            21          ['concatenate_1[0][0]']          \n",
            "                                                                                                  \n",
            "==================================================================================================\n",
            "Total params: 533\n",
            "Trainable params: 533\n",
            "Non-trainable params: 0\n",
            "__________________________________________________________________________________________________\n"
          ]
        }
      ]
    },
    {
      "cell_type": "code",
      "source": [
        "from tensorflow.keras.utils import plot_model"
      ],
      "metadata": {
        "id": "ns254f-Cu9zu"
      },
      "execution_count": null,
      "outputs": []
    },
    {
      "cell_type": "code",
      "source": [
        "plot_model(model, show_layer_names = False, show_shapes = True)"
      ],
      "metadata": {
        "colab": {
          "base_uri": "https://localhost:8080/",
          "height": 720
        },
        "id": "tPB4Xt9Cu920",
        "outputId": "d63c625b-d3ea-4ae8-c8c7-3aef7ee88aa8"
      },
      "execution_count": null,
      "outputs": [
        {
          "output_type": "execute_result",
          "data": {
            "text/plain": [
              "<IPython.core.display.Image object>"
            ],
            "image/png": "[encoded data removed]"
          },
          "metadata": {},
          "execution_count": 34
        }
      ]
    },
    {
      "cell_type": "code",
      "source": [
        "from tensorflow.keras.optimizers import Adam\n",
        "opt = Adam(lr=1e-2, decay=1e-3 / 200)\n",
        "model.compile(loss='mean_absolute_error', optimizer=opt, metrics=['mean_absolute_error'])"
      ],
      "metadata": {
        "colab": {
          "base_uri": "https://localhost:8080/"
        },
        "id": "vBig7_gEu95x",
        "outputId": "f5cd47dd-0c74-4048-f3ed-d13a1881f3f4"
      },
      "execution_count": null,
      "outputs": [
        {
          "output_type": "stream",
          "name": "stderr",
          "text": [
            "/usr/local/lib/python3.7/dist-packages/keras/optimizer_v2/adam.py:105: UserWarning: The `lr` argument is deprecated, use `learning_rate` instead.\n",
            "  super(Adam, self).__init__(name, **kwargs)\n"
          ]
        }
      ]
    },
    {
      "cell_type": "code",
      "source": [
        "model.fit( x=[X_train, X_train],\n",
        "          y=y_train,\n",
        "          validation_split = 0.2,\n",
        "          epochs=10, batch_size=64 )"
      ],
      "metadata": {
        "colab": {
          "base_uri": "https://localhost:8080/"
        },
        "id": "GTR_jRRXu98z",
        "outputId": "a7f86cdd-d425-4b28-bc38-98cb234c32a6"
      },
      "execution_count": null,
      "outputs": [
        {
          "output_type": "stream",
          "name": "stdout",
          "text": [
            "Epoch 1/10\n",
            "181/181 [==============================] - 4s 9ms/step - loss: 0.5784 - mean_absolute_error: 0.5784 - val_loss: 0.5552 - val_mean_absolute_error: 0.5552\n",
            "Epoch 2/10\n",
            "181/181 [==============================] - 1s 6ms/step - loss: 0.5702 - mean_absolute_error: 0.5702 - val_loss: 0.5932 - val_mean_absolute_error: 0.5932\n",
            "Epoch 3/10\n",
            "181/181 [==============================] - 1s 3ms/step - loss: 0.5635 - mean_absolute_error: 0.5635 - val_loss: 0.6087 - val_mean_absolute_error: 0.6087\n",
            "Epoch 4/10\n",
            "181/181 [==============================] - 0s 3ms/step - loss: 0.5761 - mean_absolute_error: 0.5761 - val_loss: 0.5450 - val_mean_absolute_error: 0.5450\n",
            "Epoch 5/10\n",
            "181/181 [==============================] - 0s 3ms/step - loss: 0.5472 - mean_absolute_error: 0.5472 - val_loss: 0.5359 - val_mean_absolute_error: 0.5359\n",
            "Epoch 6/10\n",
            "181/181 [==============================] - 0s 3ms/step - loss: 0.5670 - mean_absolute_error: 0.5670 - val_loss: 0.5362 - val_mean_absolute_error: 0.5362\n",
            "Epoch 7/10\n",
            "181/181 [==============================] - 0s 3ms/step - loss: 0.5666 - mean_absolute_error: 0.5666 - val_loss: 0.5368 - val_mean_absolute_error: 0.5368\n",
            "Epoch 8/10\n",
            "181/181 [==============================] - 0s 2ms/step - loss: 0.5487 - mean_absolute_error: 0.5487 - val_loss: 0.7399 - val_mean_absolute_error: 0.7399\n",
            "Epoch 9/10\n",
            "181/181 [==============================] - 0s 3ms/step - loss: 0.5591 - mean_absolute_error: 0.5591 - val_loss: 0.5477 - val_mean_absolute_error: 0.5477\n",
            "Epoch 10/10\n",
            "181/181 [==============================] - 1s 3ms/step - loss: 0.5938 - mean_absolute_error: 0.5938 - val_loss: 0.5734 - val_mean_absolute_error: 0.5734\n"
          ]
        },
        {
          "output_type": "execute_result",
          "data": {
            "text/plain": [
              "<keras.callbacks.History at 0x7f616d9e8210>"
            ]
          },
          "metadata": {},
          "execution_count": 36
        }
      ]
    },
    {
      "cell_type": "code",
      "source": [
        "y_pred = model.predict([X_test, X_test])"
      ],
      "metadata": {
        "id": "CbE23hRzu9_o"
      },
      "execution_count": null,
      "outputs": []
    },
    {
      "cell_type": "code",
      "source": [
        "from sklearn.metrics import mean_squared_error, mean_absolute_percentage_error"
      ],
      "metadata": {
        "id": "FyjrJHfFu-Co"
      },
      "execution_count": null,
      "outputs": []
    },
    {
      "cell_type": "code",
      "source": [
        "import numpy as np"
      ],
      "metadata": {
        "id": "v-r9Mm92u-Fn"
      },
      "execution_count": null,
      "outputs": []
    },
    {
      "cell_type": "code",
      "source": [
        "np.sqrt(mean_squared_error(y_test, y_pred))"
      ],
      "metadata": {
        "colab": {
          "base_uri": "https://localhost:8080/"
        },
        "id": "gfyc9Mcmu-If",
        "outputId": "3456b922-a53e-455d-dd06-7458fa114122"
      },
      "execution_count": null,
      "outputs": [
        {
          "output_type": "execute_result",
          "data": {
            "text/plain": [
              "0.7574030418520549"
            ]
          },
          "metadata": {},
          "execution_count": 41
        }
      ]
    },
    {
      "cell_type": "code",
      "source": [
        "mean_absolute_percentage_error(y_pred, y_test)"
      ],
      "metadata": {
        "colab": {
          "base_uri": "https://localhost:8080/"
        },
        "id": "vHb4hE28u-Ma",
        "outputId": "694484c6-8ea9-46a0-ab12-92a88ad516f2"
      },
      "execution_count": null,
      "outputs": [
        {
          "output_type": "execute_result",
          "data": {
            "text/plain": [
              "0.291317732611093"
            ]
          },
          "metadata": {},
          "execution_count": 43
        }
      ]
    },
    {
      "cell_type": "code",
      "source": [
        "y_pred = model_1.predict(X_test)"
      ],
      "metadata": {
        "id": "upIPoP1pcXja"
      },
      "execution_count": null,
      "outputs": []
    },
    {
      "cell_type": "code",
      "source": [
        "import numpy as np\n",
        "from sklearn.metrics import mean_squared_error\n",
        "np.sqrt(mean_squared_error(y_test, y_pred))"
      ],
      "metadata": {
        "colab": {
          "base_uri": "https://localhost:8080/"
        },
        "id": "t8No3XjnYjdw",
        "outputId": "edc6d980-1c55-4e8c-91f7-91b4e6e7a19f"
      },
      "execution_count": null,
      "outputs": [
        {
          "output_type": "execute_result",
          "data": {
            "text/plain": [
              "1.1380445756412008"
            ]
          },
          "metadata": {},
          "execution_count": 12
        }
      ]
    },
    {
      "cell_type": "code",
      "source": [
        "np.var(np.abs(y_test-y_pred))"
      ],
      "metadata": {
        "colab": {
          "base_uri": "https://localhost:8080/"
        },
        "id": "kKBQbK3ngdgp",
        "outputId": "2861071d-94f9-4cae-a46b-603662d2a1fb"
      },
      "execution_count": null,
      "outputs": [
        {
          "output_type": "execute_result",
          "data": {
            "text/plain": [
              "0.793261983872898"
            ]
          },
          "metadata": {},
          "execution_count": 13
        }
      ]
    },
    {
      "cell_type": "code",
      "source": [
        "#model_2 = create_dnn(X_train.shape[1], hl_1_nodes = 16, hl_2_nodes = 16)\n",
        "model_2 = Sequential()\n",
        "model_2.add(Dense(units = 16, input_dim=X_train.shape[1] , activation='relu'))\n",
        "model_2.add(Dense(units = 16, activation='relu'))\n",
        "model_2.add(Dense(units = 1))\n",
        "model_2.compile(loss='mean_absolute_error', optimizer='adam', metrics=['mean_absolute_error'])"
      ],
      "metadata": {
        "id": "GSzJVWA1ckQM"
      },
      "execution_count": null,
      "outputs": []
    },
    {
      "cell_type": "code",
      "source": [
        "model_2.summary()"
      ],
      "metadata": {
        "colab": {
          "base_uri": "https://localhost:8080/"
        },
        "id": "TA_Le4hoc8wO",
        "outputId": "5377addf-0e99-4e30-ec69-977d4c7fff51"
      },
      "execution_count": null,
      "outputs": [
        {
          "output_type": "stream",
          "name": "stdout",
          "text": [
            "Model: \"sequential_3\"\n",
            "_________________________________________________________________\n",
            " Layer (type)                Output Shape              Param #   \n",
            "=================================================================\n",
            " dense_11 (Dense)            (None, 16)                112       \n",
            "                                                                 \n",
            " dense_12 (Dense)            (None, 16)                272       \n",
            "                                                                 \n",
            " dense_13 (Dense)            (None, 1)                 17        \n",
            "                                                                 \n",
            "=================================================================\n",
            "Total params: 401\n",
            "Trainable params: 401\n",
            "Non-trainable params: 0\n",
            "_________________________________________________________________\n"
          ]
        }
      ]
    },
    {
      "cell_type": "code",
      "source": [
        "model_2.fit(X_train, y_train, epochs=15, batch_size=128, validation_split = 0.2)"
      ],
      "metadata": {
        "colab": {
          "base_uri": "https://localhost:8080/"
        },
        "id": "ZccWsomfc86w",
        "outputId": "8fbaacb0-75ba-4b39-99b9-be7a781e63be"
      },
      "execution_count": null,
      "outputs": [
        {
          "output_type": "stream",
          "name": "stdout",
          "text": [
            "Epoch 1/15\n",
            "91/91 [==============================] - 1s 4ms/step - loss: 17.0752 - mean_absolute_error: 17.0752 - val_loss: 1.3021 - val_mean_absolute_error: 1.3021\n",
            "Epoch 2/15\n",
            "91/91 [==============================] - 0s 3ms/step - loss: 1.0857 - mean_absolute_error: 1.0857 - val_loss: 1.2018 - val_mean_absolute_error: 1.2018\n",
            "Epoch 3/15\n",
            "91/91 [==============================] - 0s 2ms/step - loss: 0.9602 - mean_absolute_error: 0.9602 - val_loss: 1.0452 - val_mean_absolute_error: 1.0452\n",
            "Epoch 4/15\n",
            "91/91 [==============================] - 0s 2ms/step - loss: 0.9926 - mean_absolute_error: 0.9926 - val_loss: 1.1100 - val_mean_absolute_error: 1.1100\n",
            "Epoch 5/15\n",
            "91/91 [==============================] - 0s 2ms/step - loss: 1.0403 - mean_absolute_error: 1.0403 - val_loss: 0.6856 - val_mean_absolute_error: 0.6856\n",
            "Epoch 6/15\n",
            "91/91 [==============================] - 0s 3ms/step - loss: 1.0140 - mean_absolute_error: 1.0140 - val_loss: 1.2741 - val_mean_absolute_error: 1.2741\n",
            "Epoch 7/15\n",
            "91/91 [==============================] - 0s 3ms/step - loss: 1.0518 - mean_absolute_error: 1.0518 - val_loss: 0.6505 - val_mean_absolute_error: 0.6505\n",
            "Epoch 8/15\n",
            "91/91 [==============================] - 0s 2ms/step - loss: 0.8844 - mean_absolute_error: 0.8844 - val_loss: 0.7925 - val_mean_absolute_error: 0.7925\n",
            "Epoch 9/15\n",
            "91/91 [==============================] - 0s 2ms/step - loss: 0.8213 - mean_absolute_error: 0.8213 - val_loss: 0.5989 - val_mean_absolute_error: 0.5989\n",
            "Epoch 10/15\n",
            "91/91 [==============================] - 0s 2ms/step - loss: 0.9905 - mean_absolute_error: 0.9905 - val_loss: 0.6278 - val_mean_absolute_error: 0.6278\n",
            "Epoch 11/15\n",
            "91/91 [==============================] - 0s 3ms/step - loss: 0.9170 - mean_absolute_error: 0.9170 - val_loss: 0.6789 - val_mean_absolute_error: 0.6789\n",
            "Epoch 12/15\n",
            "91/91 [==============================] - 0s 3ms/step - loss: 1.0660 - mean_absolute_error: 1.0660 - val_loss: 0.5978 - val_mean_absolute_error: 0.5978\n",
            "Epoch 13/15\n",
            "91/91 [==============================] - 0s 3ms/step - loss: 0.7693 - mean_absolute_error: 0.7693 - val_loss: 0.5845 - val_mean_absolute_error: 0.5845\n",
            "Epoch 14/15\n",
            "91/91 [==============================] - 0s 2ms/step - loss: 0.8422 - mean_absolute_error: 0.8422 - val_loss: 0.7460 - val_mean_absolute_error: 0.7460\n",
            "Epoch 15/15\n",
            "91/91 [==============================] - 0s 3ms/step - loss: 0.7769 - mean_absolute_error: 0.7769 - val_loss: 0.6896 - val_mean_absolute_error: 0.6896\n"
          ]
        },
        {
          "output_type": "execute_result",
          "data": {
            "text/plain": [
              "<keras.callbacks.History at 0x7f67d2823350>"
            ]
          },
          "metadata": {},
          "execution_count": 34
        }
      ]
    },
    {
      "cell_type": "code",
      "source": [
        "y_pred = model_2.predict(X_test)\n",
        "np.sqrt(mean_squared_error(y_test, y_pred))"
      ],
      "metadata": {
        "colab": {
          "base_uri": "https://localhost:8080/"
        },
        "id": "RVqyYPC5c9Di",
        "outputId": "aff62b3c-756c-4ccd-c552-d06de1d68dad"
      },
      "execution_count": null,
      "outputs": [
        {
          "output_type": "execute_result",
          "data": {
            "text/plain": [
              "0.9723354667201886"
            ]
          },
          "metadata": {},
          "execution_count": 35
        }
      ]
    },
    {
      "cell_type": "code",
      "source": [
        "np.var(np.abs(y_test-y_pred))"
      ],
      "metadata": {
        "colab": {
          "base_uri": "https://localhost:8080/"
        },
        "id": "FwfUGrR-gcIX",
        "outputId": "6d3196d0-4993-402c-ae65-082fa1dbc98d"
      },
      "execution_count": null,
      "outputs": [
        {
          "output_type": "execute_result",
          "data": {
            "text/plain": [
              "1.0105251702556646"
            ]
          },
          "metadata": {},
          "execution_count": 36
        }
      ]
    },
    {
      "cell_type": "code",
      "source": [
        "# Let's Stack them Together\n",
        "\n",
        "from tensorflow.keras.layers import Input\n",
        "from tensorflow.keras.models import Model\n",
        "from tensorflow.keras.layers import concatenate"
      ],
      "metadata": {
        "id": "CqTtLX1pdZj3"
      },
      "execution_count": null,
      "outputs": []
    },
    {
      "cell_type": "code",
      "source": [
        "combinedInput = concatenate([model_1.output, model_2.output])"
      ],
      "metadata": {
        "id": "wr23QqPOd1KR"
      },
      "execution_count": null,
      "outputs": []
    },
    {
      "cell_type": "code",
      "source": [
        "x = Dense(1, activation=\"linear\")(combinedInput)\n",
        "model = Model(inputs=[model_1.input, model_2.input], outputs=x)"
      ],
      "metadata": {
        "id": "-LzT8syPd8LM"
      },
      "execution_count": null,
      "outputs": []
    },
    {
      "cell_type": "code",
      "source": [
        "model.compile(loss='mean_absolute_error', optimizer='adam', metrics=['mean_absolute_error'])"
      ],
      "metadata": {
        "id": "N6X7cET3eEsG"
      },
      "execution_count": null,
      "outputs": []
    },
    {
      "cell_type": "code",
      "source": [
        "model.fit(\n",
        "    x=[X_train, X_train], y=y_train, validation_split = 0.2,\n",
        "    epochs=30, batch_size=256)"
      ],
      "metadata": {
        "colab": {
          "base_uri": "https://localhost:8080/"
        },
        "id": "IVHXUDr2eO-m",
        "outputId": "f3ed2126-8188-48e9-923e-ee6dface1d42"
      },
      "execution_count": null,
      "outputs": [
        {
          "output_type": "stream",
          "name": "stdout",
          "text": [
            "Epoch 1/30\n",
            "46/46 [==============================] - 1s 8ms/step - loss: 1.2051 - mean_absolute_error: 1.2051 - val_loss: 0.6384 - val_mean_absolute_error: 0.6384\n",
            "Epoch 2/30\n",
            "46/46 [==============================] - 0s 4ms/step - loss: 0.5874 - mean_absolute_error: 0.5874 - val_loss: 0.5790 - val_mean_absolute_error: 0.5790\n",
            "Epoch 3/30\n",
            "46/46 [==============================] - 0s 4ms/step - loss: 0.6151 - mean_absolute_error: 0.6151 - val_loss: 0.5813 - val_mean_absolute_error: 0.5813\n",
            "Epoch 4/30\n",
            "46/46 [==============================] - 0s 4ms/step - loss: 0.6137 - mean_absolute_error: 0.6137 - val_loss: 0.6038 - val_mean_absolute_error: 0.6038\n",
            "Epoch 5/30\n",
            "46/46 [==============================] - 0s 4ms/step - loss: 0.6154 - mean_absolute_error: 0.6154 - val_loss: 0.8572 - val_mean_absolute_error: 0.8572\n",
            "Epoch 6/30\n",
            "46/46 [==============================] - 0s 4ms/step - loss: 0.6934 - mean_absolute_error: 0.6934 - val_loss: 0.6045 - val_mean_absolute_error: 0.6045\n",
            "Epoch 7/30\n",
            "46/46 [==============================] - 0s 5ms/step - loss: 0.5953 - mean_absolute_error: 0.5953 - val_loss: 0.6375 - val_mean_absolute_error: 0.6375\n",
            "Epoch 8/30\n",
            "46/46 [==============================] - 0s 4ms/step - loss: 0.5927 - mean_absolute_error: 0.5927 - val_loss: 0.5833 - val_mean_absolute_error: 0.5833\n",
            "Epoch 9/30\n",
            "46/46 [==============================] - 0s 4ms/step - loss: 0.6811 - mean_absolute_error: 0.6811 - val_loss: 0.6075 - val_mean_absolute_error: 0.6075\n",
            "Epoch 10/30\n",
            "46/46 [==============================] - 0s 4ms/step - loss: 0.5869 - mean_absolute_error: 0.5869 - val_loss: 0.5825 - val_mean_absolute_error: 0.5825\n",
            "Epoch 11/30\n",
            "46/46 [==============================] - 0s 4ms/step - loss: 0.6316 - mean_absolute_error: 0.6316 - val_loss: 0.5892 - val_mean_absolute_error: 0.5892\n",
            "Epoch 12/30\n",
            "46/46 [==============================] - 0s 4ms/step - loss: 0.5937 - mean_absolute_error: 0.5937 - val_loss: 0.6402 - val_mean_absolute_error: 0.6402\n",
            "Epoch 13/30\n",
            "46/46 [==============================] - 0s 4ms/step - loss: 0.6666 - mean_absolute_error: 0.6666 - val_loss: 0.9353 - val_mean_absolute_error: 0.9353\n",
            "Epoch 14/30\n",
            "46/46 [==============================] - 0s 4ms/step - loss: 0.6379 - mean_absolute_error: 0.6379 - val_loss: 0.5731 - val_mean_absolute_error: 0.5731\n",
            "Epoch 15/30\n",
            "46/46 [==============================] - 0s 4ms/step - loss: 0.6266 - mean_absolute_error: 0.6266 - val_loss: 0.7068 - val_mean_absolute_error: 0.7068\n",
            "Epoch 16/30\n",
            "46/46 [==============================] - 0s 4ms/step - loss: 0.6621 - mean_absolute_error: 0.6621 - val_loss: 0.7958 - val_mean_absolute_error: 0.7958\n",
            "Epoch 17/30\n",
            "46/46 [==============================] - 0s 4ms/step - loss: 0.6109 - mean_absolute_error: 0.6109 - val_loss: 0.7306 - val_mean_absolute_error: 0.7306\n",
            "Epoch 18/30\n",
            "46/46 [==============================] - 0s 4ms/step - loss: 0.5971 - mean_absolute_error: 0.5971 - val_loss: 0.6319 - val_mean_absolute_error: 0.6319\n",
            "Epoch 19/30\n",
            "46/46 [==============================] - 0s 3ms/step - loss: 0.7491 - mean_absolute_error: 0.7491 - val_loss: 0.6446 - val_mean_absolute_error: 0.6446\n",
            "Epoch 20/30\n",
            "46/46 [==============================] - 0s 4ms/step - loss: 0.6542 - mean_absolute_error: 0.6542 - val_loss: 1.0732 - val_mean_absolute_error: 1.0732\n",
            "Epoch 21/30\n",
            "46/46 [==============================] - 0s 4ms/step - loss: 0.6460 - mean_absolute_error: 0.6460 - val_loss: 0.9264 - val_mean_absolute_error: 0.9264\n",
            "Epoch 22/30\n",
            "46/46 [==============================] - 0s 4ms/step - loss: 0.7010 - mean_absolute_error: 0.7010 - val_loss: 0.5827 - val_mean_absolute_error: 0.5827\n",
            "Epoch 23/30\n",
            "46/46 [==============================] - 0s 4ms/step - loss: 0.5831 - mean_absolute_error: 0.5831 - val_loss: 0.8093 - val_mean_absolute_error: 0.8093\n",
            "Epoch 24/30\n",
            "46/46 [==============================] - 0s 4ms/step - loss: 0.7049 - mean_absolute_error: 0.7049 - val_loss: 0.6649 - val_mean_absolute_error: 0.6649\n",
            "Epoch 25/30\n",
            "46/46 [==============================] - 0s 4ms/step - loss: 0.5924 - mean_absolute_error: 0.5924 - val_loss: 0.5917 - val_mean_absolute_error: 0.5917\n",
            "Epoch 26/30\n",
            "46/46 [==============================] - 0s 4ms/step - loss: 0.5992 - mean_absolute_error: 0.5992 - val_loss: 0.5757 - val_mean_absolute_error: 0.5757\n",
            "Epoch 27/30\n",
            "46/46 [==============================] - 0s 3ms/step - loss: 0.5835 - mean_absolute_error: 0.5835 - val_loss: 0.6096 - val_mean_absolute_error: 0.6096\n",
            "Epoch 28/30\n",
            "46/46 [==============================] - 0s 4ms/step - loss: 0.5773 - mean_absolute_error: 0.5773 - val_loss: 0.6398 - val_mean_absolute_error: 0.6398\n",
            "Epoch 29/30\n",
            "46/46 [==============================] - 0s 4ms/step - loss: 0.6498 - mean_absolute_error: 0.6498 - val_loss: 0.6560 - val_mean_absolute_error: 0.6560\n",
            "Epoch 30/30\n",
            "46/46 [==============================] - 0s 4ms/step - loss: 0.6240 - mean_absolute_error: 0.6240 - val_loss: 0.6115 - val_mean_absolute_error: 0.6115\n"
          ]
        },
        {
          "output_type": "execute_result",
          "data": {
            "text/plain": [
              "<keras.callbacks.History at 0x7f67d2b836d0>"
            ]
          },
          "metadata": {},
          "execution_count": 23
        }
      ]
    },
    {
      "cell_type": "code",
      "source": [
        "y_pred = model.predict([X_test, X_test])"
      ],
      "metadata": {
        "id": "xDYrElleeXMX"
      },
      "execution_count": null,
      "outputs": []
    },
    {
      "cell_type": "code",
      "source": [
        "np.sqrt(mean_squared_error(y_test, y_pred))"
      ],
      "metadata": {
        "colab": {
          "base_uri": "https://localhost:8080/"
        },
        "id": "sReewUkKfCVj",
        "outputId": "8026fa5a-15e5-4370-d64e-6ff5a9704762"
      },
      "execution_count": null,
      "outputs": [
        {
          "output_type": "execute_result",
          "data": {
            "text/plain": [
              "0.8625250461467957"
            ]
          },
          "metadata": {},
          "execution_count": 25
        }
      ]
    },
    {
      "cell_type": "code",
      "source": [
        "np.var(np.abs(y_test-y_pred))"
      ],
      "metadata": {
        "colab": {
          "base_uri": "https://localhost:8080/"
        },
        "id": "MLgr84oofJtF",
        "outputId": "84917dd2-36aa-4cff-c437-e0569cd7e055"
      },
      "execution_count": null,
      "outputs": [
        {
          "output_type": "execute_result",
          "data": {
            "text/plain": [
              "0.9418494075550469"
            ]
          },
          "metadata": {},
          "execution_count": 26
        }
      ]
    },
    {
      "cell_type": "code",
      "source": [
        ""
      ],
      "metadata": {
        "id": "iVnqCY3Kmnxw"
      },
      "execution_count": null,
      "outputs": []
    }
  ]
}