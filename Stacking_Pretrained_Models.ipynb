{
  "nbformat": 4,
  "nbformat_minor": 0,
  "metadata": {
    "colab": {
      "name": "Stacking Pretrained Models",
      "provenance": [],
      "collapsed_sections": []
    },
    "kernelspec": {
      "name": "python3",
      "display_name": "Python 3"
    },
    "language_info": {
      "name": "python"
    }
  },
  "cells": [
    {
      "cell_type": "code",
      "source": [
        "from keras.applications.densenet import DenseNet121, preprocess_input as preprocess_densenet\n",
        "from keras.applications.resnet_v2 import ResNet50V2 , preprocess_input as preprocess_resnet\n",
        "from keras.layers.merge import concatenate\n",
        "from tensorflow.keras.layers import Input, Lambda, Dense\n",
        "from tensorflow.keras.models import Model\n",
        "\n",
        "input_shape = (32,32,3)\n",
        "input_layer = Input(shape=input_shape)\n",
        "\n",
        "preprocessor_resnet = Lambda(preprocess_resnet)(input_layer)\n",
        "resnet50v2 = ResNet50V2(weights = 'imagenet',\n",
        "                                     include_top = False,input_shape = input_shape,pooling ='avg')(preprocessor_resnet)\n",
        "preprocessor_densenet = Lambda(preprocess_densenet)(input_layer)\n",
        "densenet = DenseNet121(weights = 'imagenet',\n",
        "                                     include_top = False,input_shape = input_shape,pooling ='avg')(preprocessor_densenet)\n",
        "\n",
        "resnet50v2.trainable = False\n",
        "                                     \n",
        "combinedInput = concatenate([resnet50v2,densenet])\n",
        "x = Dense(16, activation=\"linear\")(combinedInput)\n",
        "final_layer = Dense(10, activation=\"softmax\")(x)\n",
        "stacked_model = Model(inputs = input_layer, outputs = final_layer)\n",
        "stacked_model.summary()"
      ],
      "metadata": {
        "colab": {
          "base_uri": "https://localhost:8080/"
        },
        "id": "q9BFmc0AoGXD",
        "outputId": "d4c43c31-2230-4c24-b689-d17599e12e8f"
      },
      "execution_count": 13,
      "outputs": [
        {
          "output_type": "stream",
          "name": "stdout",
          "text": [
            "Model: \"model_2\"\n",
            "__________________________________________________________________________________________________\n",
            " Layer (type)                   Output Shape         Param #     Connected to                     \n",
            "==================================================================================================\n",
            " input_18 (InputLayer)          [(None, 32, 32, 3)]  0           []                               \n",
            "                                                                                                  \n",
            " lambda_10 (Lambda)             (None, 32, 32, 3)    0           ['input_18[0][0]']               \n",
            "                                                                                                  \n",
            " lambda_11 (Lambda)             (None, 32, 32, 3)    0           ['input_18[0][0]']               \n",
            "                                                                                                  \n",
            " resnet50v2 (Functional)        (None, 2048)         23564800    ['lambda_10[0][0]']              \n",
            "                                                                                                  \n",
            " densenet121 (Functional)       (None, 1024)         7037504     ['lambda_11[0][0]']              \n",
            "                                                                                                  \n",
            " concatenate_5 (Concatenate)    (None, 3072)         0           ['resnet50v2[0][0]',             \n",
            "                                                                  'densenet121[0][0]']            \n",
            "                                                                                                  \n",
            " dense_8 (Dense)                (None, 16)           49168       ['concatenate_5[0][0]']          \n",
            "                                                                                                  \n",
            " dense_9 (Dense)                (None, 10)           170         ['dense_8[0][0]']                \n",
            "                                                                                                  \n",
            "==================================================================================================\n",
            "Total params: 30,651,642\n",
            "Trainable params: 30,522,554\n",
            "Non-trainable params: 129,088\n",
            "__________________________________________________________________________________________________\n"
          ]
        }
      ]
    },
    {
      "cell_type": "code",
      "source": [
        ""
      ],
      "metadata": {
        "id": "99ACZhwTqcY5"
      },
      "execution_count": 10,
      "outputs": []
    },
    {
      "cell_type": "code",
      "source": [
        ""
      ],
      "metadata": {
        "id": "iVnqCY3Kmnxw"
      },
      "execution_count": null,
      "outputs": []
    }
  ]
}