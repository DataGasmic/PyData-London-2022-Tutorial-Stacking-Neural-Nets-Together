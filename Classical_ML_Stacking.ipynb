{
  "nbformat": 4,
  "nbformat_minor": 0,
  "metadata": {
    "colab": {
      "name": "Classical ML Stacking.ipynb",
      "provenance": []
    },
    "kernelspec": {
      "name": "python3",
      "display_name": "Python 3"
    },
    "language_info": {
      "name": "python"
    }
  },
  "cells": [
    {
      "cell_type": "code",
      "execution_count": 1,
      "metadata": {
        "id": "mONrXES1S04H"
      },
      "outputs": [],
      "source": [
        "import pandas as pd\n",
        "import numpy as np\n",
        "\n",
        "from sklearn.model_selection import train_test_split\n",
        "\n",
        "from sklearn.linear_model import LinearRegression\n",
        "from sklearn.neighbors import KNeighborsRegressor\n",
        "from sklearn.tree import DecisionTreeRegressor\n",
        "from sklearn.svm import SVR\n",
        "\n",
        "from sklearn.ensemble import StackingRegressor\n",
        "\n",
        "from sklearn.metrics import mean_squared_error"
      ]
    },
    {
      "cell_type": "code",
      "source": [
        "from sklearn.datasets import fetch_california_housing\n",
        "housing = fetch_california_housing()"
      ],
      "metadata": {
        "id": "7fLJJ4y1TF4M"
      },
      "execution_count": 2,
      "outputs": []
    },
    {
      "cell_type": "code",
      "source": [
        "X = housing['data']\n",
        "y = housing['target']"
      ],
      "metadata": {
        "id": "UCHLj2F7TJBF"
      },
      "execution_count": 3,
      "outputs": []
    },
    {
      "cell_type": "code",
      "source": [
        "X_train, X_test, y_train, y_test = train_test_split(X, y , train_size = 0.7)"
      ],
      "metadata": {
        "id": "2F0lPefLTj2g"
      },
      "execution_count": 4,
      "outputs": []
    },
    {
      "cell_type": "code",
      "source": [
        "individual_models = [SVR() , KNeighborsRegressor(), DecisionTreeRegressor()  ]"
      ],
      "metadata": {
        "id": "rBLaR2EKTkY6"
      },
      "execution_count": 5,
      "outputs": []
    },
    {
      "cell_type": "code",
      "source": [
        "for model in individual_models:\n",
        "  model.fit(X_train, y_train)\n",
        "  y_pred = model.predict(X_test)\n",
        "  print(\"{} : RMSE : {:.3f}, Error Variance : {:.3f}\".format(type(model).__name__ , np.sqrt(mean_squared_error(y_pred, y_test)), np.var(np.abs(y_test-y_pred))))"
      ],
      "metadata": {
        "colab": {
          "base_uri": "https://localhost:8080/"
        },
        "id": "j6BJ1SnDTkhz",
        "outputId": "4559c9be-d602-4d97-eba9-3c69e9c60234"
      },
      "execution_count": 6,
      "outputs": [
        {
          "output_type": "stream",
          "name": "stdout",
          "text": [
            "SVR : RMSE : 1.1565173557373802, Error Variance : 0.5921918247784349\n",
            "KNeighborsRegressor : RMSE : 1.066398256423146, Error Variance : 0.4610583137881506\n",
            "DecisionTreeRegressor : RMSE : 0.7184783745604179, Error Variance : 0.3119167342568308\n"
          ]
        }
      ]
    },
    {
      "cell_type": "code",
      "source": [
        "base_models = [(type(i).__name__, i)for i in individual_models]\n",
        "meta_model = LinearRegression()"
      ],
      "metadata": {
        "id": "6zOcI4RqVTvt"
      },
      "execution_count": 7,
      "outputs": []
    },
    {
      "cell_type": "code",
      "source": [
        "stacked_model = StackingRegressor(estimators = base_models , final_estimator = meta_model,\n",
        "                                  cv = 3, n_jobs = -1, passthrough = False)"
      ],
      "metadata": {
        "id": "lmcFOtsYVd2G"
      },
      "execution_count": 8,
      "outputs": []
    },
    {
      "cell_type": "code",
      "source": [
        "stacked_model.fit(X_train, y_train)"
      ],
      "metadata": {
        "colab": {
          "base_uri": "https://localhost:8080/"
        },
        "id": "k1kWqWKfVzuB",
        "outputId": "2c3db4da-0693-46d7-e62c-27029100ee97"
      },
      "execution_count": 9,
      "outputs": [
        {
          "output_type": "execute_result",
          "data": {
            "text/plain": [
              "StackingRegressor(cv=3,\n",
              "                  estimators=[('SVR', SVR()),\n",
              "                              ('KNeighborsRegressor', KNeighborsRegressor()),\n",
              "                              ('DecisionTreeRegressor',\n",
              "                               DecisionTreeRegressor())],\n",
              "                  final_estimator=LinearRegression(), n_jobs=-1)"
            ]
          },
          "metadata": {},
          "execution_count": 9
        }
      ]
    },
    {
      "cell_type": "code",
      "source": [
        "y_pred = stacked_model.predict(X_test)"
      ],
      "metadata": {
        "id": "h38HH-hJV3FY"
      },
      "execution_count": 10,
      "outputs": []
    },
    {
      "cell_type": "code",
      "source": [
        "np.sqrt(mean_squared_error(y_test, y_pred))"
      ],
      "metadata": {
        "colab": {
          "base_uri": "https://localhost:8080/"
        },
        "id": "MGQbqQ1JWTBl",
        "outputId": "a4096360-5dd3-4c68-abbc-6c549cd2c8eb"
      },
      "execution_count": 11,
      "outputs": [
        {
          "output_type": "execute_result",
          "data": {
            "text/plain": [
              "0.6680076310235183"
            ]
          },
          "metadata": {},
          "execution_count": 11
        }
      ]
    },
    {
      "cell_type": "code",
      "source": [
        "np.var(np.abs(y_test-y_pred))"
      ],
      "metadata": {
        "id": "GrhqTE_UWYIi",
        "colab": {
          "base_uri": "https://localhost:8080/"
        },
        "outputId": "559be646-6431-4f9f-acae-1f68e1c080d1"
      },
      "execution_count": 12,
      "outputs": [
        {
          "output_type": "execute_result",
          "data": {
            "text/plain": [
              "0.23435315946843152"
            ]
          },
          "metadata": {},
          "execution_count": 12
        }
      ]
    }
  ]
}