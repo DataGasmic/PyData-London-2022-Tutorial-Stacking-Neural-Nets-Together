{
  "nbformat": 4,
  "nbformat_minor": 0,
  "metadata": {
    "colab": {
      "name": "Stacking 2 DNN's : Fundamentals.ipynb",
      "provenance": [],
      "collapsed_sections": []
    },
    "kernelspec": {
      "name": "python3",
      "display_name": "Python 3"
    },
    "language_info": {
      "name": "python"
    }
  },
  "cells": [
    {
      "cell_type": "code",
      "execution_count": 1,
      "metadata": {
        "id": "j57X36bzMqto"
      },
      "outputs": [],
      "source": [
        "import tensorflow as tf\n",
        "import numpy as np\n",
        "\n",
        "from sklearn.model_selection import train_test_split\n",
        "\n",
        "from tensorflow.keras.models import Sequential, Model\n",
        "from tensorflow.keras.layers import Dense, Input ,concatenate\n",
        "from tensorflow.keras.utils import plot_model\n",
        "from tensorflow.keras.optimizers import Adam\n",
        "from sklearn.metrics import mean_squared_error, mean_absolute_percentage_error\n"
      ]
    },
    {
      "cell_type": "code",
      "source": [
        "from sklearn.datasets import fetch_california_housing\n",
        "housing = fetch_california_housing()\n",
        "print(housing['feature_names'])"
      ],
      "metadata": {
        "id": "tHqkbukZVJQu",
        "colab": {
          "base_uri": "https://localhost:8080/"
        },
        "outputId": "f3b0db24-a7ce-448e-c3a1-d982700f5264"
      },
      "execution_count": 2,
      "outputs": [
        {
          "output_type": "stream",
          "name": "stdout",
          "text": [
            "['MedInc', 'HouseAge', 'AveRooms', 'AveBedrms', 'Population', 'AveOccup', 'Latitude', 'Longitude']\n"
          ]
        }
      ]
    },
    {
      "cell_type": "code",
      "source": [
        "X = housing['data']# [:,:-2] If you want to keep lat,lon separately\n",
        "y = housing['target']"
      ],
      "metadata": {
        "id": "lzp3_gB3sugg"
      },
      "execution_count": 3,
      "outputs": []
    },
    {
      "cell_type": "code",
      "source": [
        "X_train, X_test, y_train , y_test = train_test_split(X, y , train_size = 0.7, random_state = 42)"
      ],
      "metadata": {
        "id": "5tvJGUu9YDK_"
      },
      "execution_count": 4,
      "outputs": []
    },
    {
      "cell_type": "code",
      "source": [
        "# Let's build 2 neural networks first"
      ],
      "metadata": {
        "id": "5nhCr5-PYJNy"
      },
      "execution_count": 5,
      "outputs": []
    },
    {
      "cell_type": "code",
      "source": [
        "# Network 1\n",
        "network_1 = Sequential()\n",
        "network_1.add(Dense(units = 4, input_dim=X_train.shape[1] , activation='relu'))\n",
        "network_1.add(Dense(units = 4, activation='relu'))\n",
        "network_1.add(Dense(units = 4, activation='relu'))\n",
        "network_1.add(Dense(units = 4, activation='relu'))\n",
        "#network_1.compile(loss='mean_squared_error', optimizer='adam', metrics=['mean_squared_error'])"
      ],
      "metadata": {
        "id": "F3Qr7UvOkNFA"
      },
      "execution_count": 6,
      "outputs": []
    },
    {
      "cell_type": "code",
      "source": [
        "network_1.summary()"
      ],
      "metadata": {
        "colab": {
          "base_uri": "https://localhost:8080/"
        },
        "id": "3uWfkBNsaH6f",
        "outputId": "bc4b668e-cb1c-4ec7-edee-5bf3d9c38158"
      },
      "execution_count": 7,
      "outputs": [
        {
          "output_type": "stream",
          "name": "stdout",
          "text": [
            "Model: \"sequential\"\n",
            "_________________________________________________________________\n",
            " Layer (type)                Output Shape              Param #   \n",
            "=================================================================\n",
            " dense (Dense)               (None, 4)                 36        \n",
            "                                                                 \n",
            " dense_1 (Dense)             (None, 4)                 20        \n",
            "                                                                 \n",
            " dense_2 (Dense)             (None, 4)                 20        \n",
            "                                                                 \n",
            " dense_3 (Dense)             (None, 4)                 20        \n",
            "                                                                 \n",
            "=================================================================\n",
            "Total params: 96\n",
            "Trainable params: 96\n",
            "Non-trainable params: 0\n",
            "_________________________________________________________________\n"
          ]
        }
      ]
    },
    {
      "cell_type": "code",
      "source": [
        "# Network 2\n",
        "network_2 = Sequential()\n",
        "network_2.add(Dense(units = 16, input_dim=X_train.shape[1] , activation='relu'))\n",
        "network_2.add(Dense(units = 16, activation='relu'))\n",
        "# network_2.compile(loss='mean_squared_error', optimizer='adam', metrics=['mean_squared_error'])"
      ],
      "metadata": {
        "id": "eC0x1gsLu9Wo"
      },
      "execution_count": 8,
      "outputs": []
    },
    {
      "cell_type": "code",
      "source": [
        "combinedInput = concatenate([network_1.output, network_2.output])"
      ],
      "metadata": {
        "id": "WdFo10xqu9m7"
      },
      "execution_count": 10,
      "outputs": []
    },
    {
      "cell_type": "code",
      "source": [
        "x = Dense(1, activation=\"linear\")(combinedInput)\n",
        "model = Model(inputs=[network_1.input, network_2.input], outputs=x)"
      ],
      "metadata": {
        "id": "PNQZDZNJu9s8"
      },
      "execution_count": 11,
      "outputs": []
    },
    {
      "cell_type": "code",
      "source": [
        "model.summary()"
      ],
      "metadata": {
        "colab": {
          "base_uri": "https://localhost:8080/"
        },
        "id": "-qyu-HD1u9wo",
        "outputId": "76bf0570-145e-43c8-bab7-9461097b6f56"
      },
      "execution_count": 12,
      "outputs": [
        {
          "output_type": "stream",
          "name": "stdout",
          "text": [
            "Model: \"model\"\n",
            "__________________________________________________________________________________________________\n",
            " Layer (type)                   Output Shape         Param #     Connected to                     \n",
            "==================================================================================================\n",
            " dense_input (InputLayer)       [(None, 8)]          0           []                               \n",
            "                                                                                                  \n",
            " dense (Dense)                  (None, 4)            36          ['dense_input[0][0]']            \n",
            "                                                                                                  \n",
            " dense_1 (Dense)                (None, 4)            20          ['dense[0][0]']                  \n",
            "                                                                                                  \n",
            " dense_4_input (InputLayer)     [(None, 8)]          0           []                               \n",
            "                                                                                                  \n",
            " dense_2 (Dense)                (None, 4)            20          ['dense_1[0][0]']                \n",
            "                                                                                                  \n",
            " dense_4 (Dense)                (None, 16)           144         ['dense_4_input[0][0]']          \n",
            "                                                                                                  \n",
            " dense_3 (Dense)                (None, 4)            20          ['dense_2[0][0]']                \n",
            "                                                                                                  \n",
            " dense_5 (Dense)                (None, 16)           272         ['dense_4[0][0]']                \n",
            "                                                                                                  \n",
            " concatenate_1 (Concatenate)    (None, 20)           0           ['dense_3[0][0]',                \n",
            "                                                                  'dense_5[0][0]']                \n",
            "                                                                                                  \n",
            " dense_6 (Dense)                (None, 1)            21          ['concatenate_1[0][0]']          \n",
            "                                                                                                  \n",
            "==================================================================================================\n",
            "Total params: 533\n",
            "Trainable params: 533\n",
            "Non-trainable params: 0\n",
            "__________________________________________________________________________________________________\n"
          ]
        }
      ]
    },
    {
      "cell_type": "code",
      "source": [
        "plot_model(model, show_layer_names = False, show_shapes = True)"
      ],
      "metadata": {
        "colab": {
          "base_uri": "https://localhost:8080/",
          "height": 754
        },
        "id": "tPB4Xt9Cu920",
        "outputId": "eb6ec571-9ec1-4348-d248-fbe99e022ba2"
      },
      "execution_count": 14,
      "outputs": [
        {
          "output_type": "execute_result",
          "data": {
            "text/plain": [
              "<IPython.core.display.Image object>"
            ],
            "image/png": "[encoded data removed]"
          },
          "metadata": {},
          "execution_count": 14
        }
      ]
    },
    {
      "cell_type": "code",
      "source": [
        "opt = Adam(learning_rate=1e-2, decay=1e-3 / 200)\n",
        "model.compile(loss='mean_absolute_error', optimizer=opt, metrics=['mean_absolute_error'])"
      ],
      "metadata": {
        "id": "vBig7_gEu95x"
      },
      "execution_count": 15,
      "outputs": []
    },
    {
      "cell_type": "code",
      "source": [
        "model.fit( x=[X_train, X_train],\n",
        "          y=y_train,\n",
        "          validation_split = 0.2,\n",
        "          epochs=10, batch_size=64 )"
      ],
      "metadata": {
        "colab": {
          "base_uri": "https://localhost:8080/"
        },
        "id": "GTR_jRRXu98z",
        "outputId": "41635782-c2f6-48bc-9179-605d6e51ff29"
      },
      "execution_count": 16,
      "outputs": [
        {
          "output_type": "stream",
          "name": "stdout",
          "text": [
            "Epoch 1/10\n",
            "181/181 [==============================] - 2s 5ms/step - loss: 4.6189 - mean_absolute_error: 4.6189 - val_loss: 0.8783 - val_mean_absolute_error: 0.8783\n",
            "Epoch 2/10\n",
            "181/181 [==============================] - 1s 3ms/step - loss: 1.0775 - mean_absolute_error: 1.0775 - val_loss: 0.7637 - val_mean_absolute_error: 0.7637\n",
            "Epoch 3/10\n",
            "181/181 [==============================] - 0s 3ms/step - loss: 0.8724 - mean_absolute_error: 0.8724 - val_loss: 1.0729 - val_mean_absolute_error: 1.0729\n",
            "Epoch 4/10\n",
            "181/181 [==============================] - 0s 2ms/step - loss: 0.9007 - mean_absolute_error: 0.9007 - val_loss: 1.1074 - val_mean_absolute_error: 1.1074\n",
            "Epoch 5/10\n",
            "181/181 [==============================] - 0s 2ms/step - loss: 0.7187 - mean_absolute_error: 0.7187 - val_loss: 0.7975 - val_mean_absolute_error: 0.7975\n",
            "Epoch 6/10\n",
            "181/181 [==============================] - 0s 2ms/step - loss: 0.8073 - mean_absolute_error: 0.8073 - val_loss: 0.9664 - val_mean_absolute_error: 0.9664\n",
            "Epoch 7/10\n",
            "181/181 [==============================] - 0s 2ms/step - loss: 0.7758 - mean_absolute_error: 0.7758 - val_loss: 0.6298 - val_mean_absolute_error: 0.6298\n",
            "Epoch 8/10\n",
            "181/181 [==============================] - 0s 3ms/step - loss: 0.7716 - mean_absolute_error: 0.7716 - val_loss: 0.6468 - val_mean_absolute_error: 0.6468\n",
            "Epoch 9/10\n",
            "181/181 [==============================] - 0s 2ms/step - loss: 0.6806 - mean_absolute_error: 0.6806 - val_loss: 0.6211 - val_mean_absolute_error: 0.6211\n",
            "Epoch 10/10\n",
            "181/181 [==============================] - 0s 2ms/step - loss: 0.6774 - mean_absolute_error: 0.6774 - val_loss: 0.7635 - val_mean_absolute_error: 0.7635\n"
          ]
        },
        {
          "output_type": "execute_result",
          "data": {
            "text/plain": [
              "<keras.callbacks.History at 0x7f6bea3dd710>"
            ]
          },
          "metadata": {},
          "execution_count": 16
        }
      ]
    },
    {
      "cell_type": "code",
      "source": [
        "y_pred = model.predict([X_test, X_test])"
      ],
      "metadata": {
        "id": "CbE23hRzu9_o"
      },
      "execution_count": 17,
      "outputs": []
    },
    {
      "cell_type": "code",
      "source": [
        "np.sqrt(mean_squared_error(y_test, y_pred))"
      ],
      "metadata": {
        "colab": {
          "base_uri": "https://localhost:8080/"
        },
        "id": "gfyc9Mcmu-If",
        "outputId": "477410f8-51d3-4d04-f4e0-53c6bb167e59"
      },
      "execution_count": 18,
      "outputs": [
        {
          "output_type": "execute_result",
          "data": {
            "text/plain": [
              "0.9301476529497154"
            ]
          },
          "metadata": {},
          "execution_count": 18
        }
      ]
    },
    {
      "cell_type": "code",
      "source": [
        "mean_absolute_percentage_error(y_pred, y_test)"
      ],
      "metadata": {
        "colab": {
          "base_uri": "https://localhost:8080/"
        },
        "id": "vHb4hE28u-Ma",
        "outputId": "f1d9b263-37cb-4592-de0a-2599278a88e2"
      },
      "execution_count": 19,
      "outputs": [
        {
          "output_type": "execute_result",
          "data": {
            "text/plain": [
              "0.33501621830814077"
            ]
          },
          "metadata": {},
          "execution_count": 19
        }
      ]
    },
    {
      "cell_type": "code",
      "source": [
        "np.var(np.abs(y_test-y_pred))"
      ],
      "metadata": {
        "colab": {
          "base_uri": "https://localhost:8080/"
        },
        "id": "EzV4p9WzbE5O",
        "outputId": "ee0114fe-d2d4-452a-c4b1-15fece79bd28"
      },
      "execution_count": 20,
      "outputs": [
        {
          "output_type": "execute_result",
          "data": {
            "text/plain": [
              "0.7967364005368353"
            ]
          },
          "metadata": {},
          "execution_count": 20
        }
      ]
    },
    {
      "cell_type": "code",
      "source": [
        "network_1"
      ],
      "metadata": {
        "id": "upIPoP1pcXja",
        "colab": {
          "base_uri": "https://localhost:8080/"
        },
        "outputId": "ca53a152-79c5-4be6-e9b4-d6506c8a0303"
      },
      "execution_count": 21,
      "outputs": [
        {
          "output_type": "execute_result",
          "data": {
            "text/plain": [
              "<keras.engine.sequential.Sequential at 0x7f6beb053850>"
            ]
          },
          "metadata": {},
          "execution_count": 21
        }
      ]
    },
    {
      "cell_type": "code",
      "source": [
        "network_2"
      ],
      "metadata": {
        "colab": {
          "base_uri": "https://localhost:8080/"
        },
        "id": "Z1c__iX0BNnG",
        "outputId": "ef4fa8ff-e7a9-410c-b8a2-76fa07cd2cea"
      },
      "execution_count": 22,
      "outputs": [
        {
          "output_type": "execute_result",
          "data": {
            "text/plain": [
              "<keras.engine.sequential.Sequential at 0x7f6bea41b390>"
            ]
          },
          "metadata": {},
          "execution_count": 22
        }
      ]
    },
    {
      "cell_type": "code",
      "source": [
        "model"
      ],
      "metadata": {
        "colab": {
          "base_uri": "https://localhost:8080/"
        },
        "id": "YCEzzLDCBPCM",
        "outputId": "6d2551f2-a0ec-479e-abf7-f2d3c45fb191"
      },
      "execution_count": 23,
      "outputs": [
        {
          "output_type": "execute_result",
          "data": {
            "text/plain": [
              "<keras.engine.functional.Functional at 0x7f6beb3cf9d0>"
            ]
          },
          "metadata": {},
          "execution_count": 23
        }
      ]
    },
    {
      "cell_type": "code",
      "source": [
        ""
      ],
      "metadata": {
        "id": "_Ga25semBPru"
      },
      "execution_count": null,
      "outputs": []
    }
  ]
}